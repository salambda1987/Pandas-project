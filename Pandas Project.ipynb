{
 "cells": [
  {
   "cell_type": "markdown",
   "metadata": {},
   "source": [
    "### Problem 1"
   ]
  },
  {
   "cell_type": "markdown",
   "metadata": {},
   "source": [
    "### 1a"
   ]
  },
  {
   "cell_type": "markdown",
   "metadata": {},
   "source": [
    "For this question we are going to use out Temp.csv. This file contains a column of 6 cities, a column of their states and a column of their respective temperatures. \n",
    "\n",
    "Read the file into a dataframe and name it Temp. "
   ]
  },
  {
   "cell_type": "markdown",
   "metadata": {},
   "source": [
    "### Answer"
   ]
  },
  {
   "cell_type": "code",
   "execution_count": 26,
   "metadata": {},
   "outputs": [
    {
     "data": {
      "text/html": [
       "<div>\n",
       "<style scoped>\n",
       "    .dataframe tbody tr th:only-of-type {\n",
       "        vertical-align: middle;\n",
       "    }\n",
       "\n",
       "    .dataframe tbody tr th {\n",
       "        vertical-align: top;\n",
       "    }\n",
       "\n",
       "    .dataframe thead th {\n",
       "        text-align: right;\n",
       "    }\n",
       "</style>\n",
       "<table border=\"1\" class=\"dataframe\">\n",
       "  <thead>\n",
       "    <tr style=\"text-align: right;\">\n",
       "      <th></th>\n",
       "      <th>City</th>\n",
       "      <th>State</th>\n",
       "      <th>Temperature</th>\n",
       "    </tr>\n",
       "  </thead>\n",
       "  <tbody>\n",
       "    <tr>\n",
       "      <th>0</th>\n",
       "      <td>NYC</td>\n",
       "      <td>New York</td>\n",
       "      <td>67</td>\n",
       "    </tr>\n",
       "    <tr>\n",
       "      <th>1</th>\n",
       "      <td>Albany</td>\n",
       "      <td>New York</td>\n",
       "      <td>49</td>\n",
       "    </tr>\n",
       "    <tr>\n",
       "      <th>2</th>\n",
       "      <td>Buffalo</td>\n",
       "      <td>New York</td>\n",
       "      <td>38</td>\n",
       "    </tr>\n",
       "    <tr>\n",
       "      <th>3</th>\n",
       "      <td>Hartford</td>\n",
       "      <td>Connecticut</td>\n",
       "      <td>63</td>\n",
       "    </tr>\n",
       "    <tr>\n",
       "      <th>4</th>\n",
       "      <td>Bridgeport</td>\n",
       "      <td>Connecticut</td>\n",
       "      <td>58</td>\n",
       "    </tr>\n",
       "    <tr>\n",
       "      <th>5</th>\n",
       "      <td>Treton</td>\n",
       "      <td>New Jersey</td>\n",
       "      <td>72</td>\n",
       "    </tr>\n",
       "    <tr>\n",
       "      <th>6</th>\n",
       "      <td>Newark</td>\n",
       "      <td>New Jersey</td>\n",
       "      <td>68</td>\n",
       "    </tr>\n",
       "  </tbody>\n",
       "</table>\n",
       "</div>"
      ],
      "text/plain": [
       "         City        State  Temperature\n",
       "0         NYC     New York           67\n",
       "1      Albany     New York           49\n",
       "2     Buffalo     New York           38\n",
       "3    Hartford  Connecticut           63\n",
       "4  Bridgeport  Connecticut           58\n",
       "5      Treton   New Jersey           72\n",
       "6      Newark   New Jersey           68"
      ]
     },
     "execution_count": 26,
     "metadata": {},
     "output_type": "execute_result"
    }
   ],
   "source": [
    "# Lets start by importing the appropriate packages\n",
    "import pandas as pd\n",
    "\n",
    "# Now lets read it into a data frame and call it Temp\n",
    "Temp = pd.read_csv('Temp.csv')\n",
    "\n",
    "# Print the dataframe\n",
    "Temp"
   ]
  },
  {
   "cell_type": "markdown",
   "metadata": {},
   "source": [
    "### 1b"
   ]
  },
  {
   "cell_type": "markdown",
   "metadata": {},
   "source": [
    "Add New Heaven, Connecticut with a pemperature of 58 degrees to the Temp data frame"
   ]
  },
  {
   "cell_type": "markdown",
   "metadata": {},
   "source": [
    "### Answer"
   ]
  },
  {
   "cell_type": "code",
   "execution_count": 27,
   "metadata": {},
   "outputs": [
    {
     "name": "stdout",
     "output_type": "stream",
     "text": [
      "         City        State  Temperature\n",
      "0  New Heaven  Connecticut           58\n",
      "**************************************************\n",
      "         City        State  Temperature\n",
      "0         NYC     New York           67\n",
      "1      Albany     New York           49\n",
      "2     Buffalo     New York           38\n",
      "3    Hartford  Connecticut           63\n",
      "4  Bridgeport  Connecticut           58\n",
      "5      Treton   New Jersey           72\n",
      "6      Newark   New Jersey           68\n",
      "0  New Heaven  Connecticut           58\n"
     ]
    }
   ],
   "source": [
    "# Lets start by creating a new data frame newDT with the new information \n",
    "# and name the columns same as the Temp columns\n",
    "newDF = pd.DataFrame([['New Heaven', 'Connecticut', 58]], columns = Temp.columns)\n",
    "\n",
    "# Print our new data frame\n",
    "print(newDF)\n",
    "\n",
    "# Print some stars to separate\n",
    "print('*'*50)\n",
    "\n",
    "# Since we have the same column names we can use concat to add the new\n",
    "# data frame to the Temp data frame\n",
    "Temp = pd.concat([Temp, newDF], axis = 0)\n",
    "\n",
    "# Print our new data frame\n",
    "print(Temp)\n",
    "\n",
    "# NOTE: Remember, every time you run this snippet, a new row will be added\n",
    "# to the Temp data frame since we are using concat"
   ]
  },
  {
   "cell_type": "markdown",
   "metadata": {},
   "source": [
    "### 1c"
   ]
  },
  {
   "cell_type": "markdown",
   "metadata": {},
   "source": [
    "Replace the name of the states by their Abbreviations on the Temp dafa frame.<br>\n",
    "\n",
    "New York -> NY<br>\n",
    "Connecticut -> CT<br>\n",
    "New Jersey -> NJ\n"
   ]
  },
  {
   "cell_type": "markdown",
   "metadata": {},
   "source": [
    "### Answer"
   ]
  },
  {
   "cell_type": "code",
   "execution_count": 31,
   "metadata": {},
   "outputs": [
    {
     "data": {
      "text/html": [
       "<div>\n",
       "<style scoped>\n",
       "    .dataframe tbody tr th:only-of-type {\n",
       "        vertical-align: middle;\n",
       "    }\n",
       "\n",
       "    .dataframe tbody tr th {\n",
       "        vertical-align: top;\n",
       "    }\n",
       "\n",
       "    .dataframe thead th {\n",
       "        text-align: right;\n",
       "    }\n",
       "</style>\n",
       "<table border=\"1\" class=\"dataframe\">\n",
       "  <thead>\n",
       "    <tr style=\"text-align: right;\">\n",
       "      <th></th>\n",
       "      <th>City</th>\n",
       "      <th>State</th>\n",
       "      <th>Temperature</th>\n",
       "    </tr>\n",
       "  </thead>\n",
       "  <tbody>\n",
       "    <tr>\n",
       "      <th>0</th>\n",
       "      <td>NYC</td>\n",
       "      <td>NY</td>\n",
       "      <td>67</td>\n",
       "    </tr>\n",
       "    <tr>\n",
       "      <th>1</th>\n",
       "      <td>Albany</td>\n",
       "      <td>NY</td>\n",
       "      <td>49</td>\n",
       "    </tr>\n",
       "    <tr>\n",
       "      <th>2</th>\n",
       "      <td>Buffalo</td>\n",
       "      <td>NY</td>\n",
       "      <td>38</td>\n",
       "    </tr>\n",
       "    <tr>\n",
       "      <th>3</th>\n",
       "      <td>Hartford</td>\n",
       "      <td>CT</td>\n",
       "      <td>63</td>\n",
       "    </tr>\n",
       "    <tr>\n",
       "      <th>4</th>\n",
       "      <td>Bridgeport</td>\n",
       "      <td>CT</td>\n",
       "      <td>58</td>\n",
       "    </tr>\n",
       "    <tr>\n",
       "      <th>5</th>\n",
       "      <td>Treton</td>\n",
       "      <td>NJ</td>\n",
       "      <td>72</td>\n",
       "    </tr>\n",
       "    <tr>\n",
       "      <th>6</th>\n",
       "      <td>Newark</td>\n",
       "      <td>NJ</td>\n",
       "      <td>68</td>\n",
       "    </tr>\n",
       "    <tr>\n",
       "      <th>0</th>\n",
       "      <td>New Heaven</td>\n",
       "      <td>CT</td>\n",
       "      <td>58</td>\n",
       "    </tr>\n",
       "  </tbody>\n",
       "</table>\n",
       "</div>"
      ],
      "text/plain": [
       "         City State  Temperature\n",
       "0         NYC    NY           67\n",
       "1      Albany    NY           49\n",
       "2     Buffalo    NY           38\n",
       "3    Hartford    CT           63\n",
       "4  Bridgeport    CT           58\n",
       "5      Treton    NJ           72\n",
       "6      Newark    NJ           68\n",
       "0  New Heaven    CT           58"
      ]
     },
     "execution_count": 31,
     "metadata": {},
     "output_type": "execute_result"
    }
   ],
   "source": [
    "# We are going to use panda's replace to tackle this problem\n",
    "Temp.replace(['New York', 'Connecticut', 'New Jersey'], ['NY', 'CT', 'NJ'], inplace = True)\n",
    "\n",
    "# Print our new data frame\n",
    "Temp"
   ]
  },
  {
   "cell_type": "markdown",
   "metadata": {},
   "source": [
    "### 1d"
   ]
  },
  {
   "cell_type": "markdown",
   "metadata": {},
   "source": [
    "Select only the rows of New York"
   ]
  },
  {
   "cell_type": "markdown",
   "metadata": {},
   "source": [
    "### Answer"
   ]
  },
  {
   "cell_type": "code",
   "execution_count": 34,
   "metadata": {},
   "outputs": [
    {
     "data": {
      "text/html": [
       "<div>\n",
       "<style scoped>\n",
       "    .dataframe tbody tr th:only-of-type {\n",
       "        vertical-align: middle;\n",
       "    }\n",
       "\n",
       "    .dataframe tbody tr th {\n",
       "        vertical-align: top;\n",
       "    }\n",
       "\n",
       "    .dataframe thead th {\n",
       "        text-align: right;\n",
       "    }\n",
       "</style>\n",
       "<table border=\"1\" class=\"dataframe\">\n",
       "  <thead>\n",
       "    <tr style=\"text-align: right;\">\n",
       "      <th></th>\n",
       "      <th>City</th>\n",
       "      <th>State</th>\n",
       "      <th>Temperature</th>\n",
       "    </tr>\n",
       "  </thead>\n",
       "  <tbody>\n",
       "    <tr>\n",
       "      <th>0</th>\n",
       "      <td>NYC</td>\n",
       "      <td>NY</td>\n",
       "      <td>67</td>\n",
       "    </tr>\n",
       "    <tr>\n",
       "      <th>1</th>\n",
       "      <td>Albany</td>\n",
       "      <td>NY</td>\n",
       "      <td>49</td>\n",
       "    </tr>\n",
       "    <tr>\n",
       "      <th>2</th>\n",
       "      <td>Buffalo</td>\n",
       "      <td>NY</td>\n",
       "      <td>38</td>\n",
       "    </tr>\n",
       "  </tbody>\n",
       "</table>\n",
       "</div>"
      ],
      "text/plain": [
       "      City State  Temperature\n",
       "0      NYC    NY           67\n",
       "1   Albany    NY           49\n",
       "2  Buffalo    NY           38"
      ]
     },
     "execution_count": 34,
     "metadata": {},
     "output_type": "execute_result"
    }
   ],
   "source": [
    "# Use Panda's loc to locate the desired rows\n",
    "Temp.loc[Temp.State == 'NY']"
   ]
  },
  {
   "cell_type": "markdown",
   "metadata": {},
   "source": [
    "### 1e"
   ]
  },
  {
   "cell_type": "markdown",
   "metadata": {},
   "source": [
    "What is the average of the temperatures in the cities of NY?"
   ]
  },
  {
   "cell_type": "markdown",
   "metadata": {},
   "source": [
    "### Answer"
   ]
  },
  {
   "cell_type": "code",
   "execution_count": 35,
   "metadata": {},
   "outputs": [
    {
     "data": {
      "text/plain": [
       "51.333333333333336"
      ]
     },
     "execution_count": 35,
     "metadata": {},
     "output_type": "execute_result"
    }
   ],
   "source": [
    "# For this problem we are going to locate the temperatures and then \n",
    "# use mean() to get the average\n",
    "Temp.loc[Temp.State == 'NY', 'Temperature'].mean()"
   ]
  },
  {
   "cell_type": "markdown",
   "metadata": {},
   "source": [
    "### 1f"
   ]
  },
  {
   "cell_type": "markdown",
   "metadata": {},
   "source": [
    "Find the mean and standard deviation of the temperatures of all three states "
   ]
  },
  {
   "cell_type": "code",
   "execution_count": 46,
   "metadata": {},
   "outputs": [
    {
     "name": "stdout",
     "output_type": "stream",
     "text": [
      "       City  Temperature\n",
      "State                   \n",
      "CT        3            3\n",
      "NJ        2            2\n",
      "NY        3            3\n",
      "**************************************************\n"
     ]
    },
    {
     "data": {
      "text/html": [
       "<div>\n",
       "<style scoped>\n",
       "    .dataframe tbody tr th:only-of-type {\n",
       "        vertical-align: middle;\n",
       "    }\n",
       "\n",
       "    .dataframe tbody tr th {\n",
       "        vertical-align: top;\n",
       "    }\n",
       "\n",
       "    .dataframe thead tr th {\n",
       "        text-align: left;\n",
       "    }\n",
       "\n",
       "    .dataframe thead tr:last-of-type th {\n",
       "        text-align: right;\n",
       "    }\n",
       "</style>\n",
       "<table border=\"1\" class=\"dataframe\">\n",
       "  <thead>\n",
       "    <tr>\n",
       "      <th></th>\n",
       "      <th colspan=\"2\" halign=\"left\">Temperature</th>\n",
       "    </tr>\n",
       "    <tr>\n",
       "      <th></th>\n",
       "      <th>mean</th>\n",
       "      <th>std</th>\n",
       "    </tr>\n",
       "    <tr>\n",
       "      <th>State</th>\n",
       "      <th></th>\n",
       "      <th></th>\n",
       "    </tr>\n",
       "  </thead>\n",
       "  <tbody>\n",
       "    <tr>\n",
       "      <th>CT</th>\n",
       "      <td>59.666667</td>\n",
       "      <td>2.886751</td>\n",
       "    </tr>\n",
       "    <tr>\n",
       "      <th>NJ</th>\n",
       "      <td>70.000000</td>\n",
       "      <td>2.828427</td>\n",
       "    </tr>\n",
       "    <tr>\n",
       "      <th>NY</th>\n",
       "      <td>51.333333</td>\n",
       "      <td>14.640128</td>\n",
       "    </tr>\n",
       "  </tbody>\n",
       "</table>\n",
       "</div>"
      ],
      "text/plain": [
       "      Temperature           \n",
       "             mean        std\n",
       "State                       \n",
       "CT      59.666667   2.886751\n",
       "NJ      70.000000   2.828427\n",
       "NY      51.333333  14.640128"
      ]
     },
     "execution_count": 46,
     "metadata": {},
     "output_type": "execute_result"
    }
   ],
   "source": [
    "# For this we are going to use Panda's groupby to get a table of the states\n",
    "GBtemp = Temp.groupby('State')\n",
    "\n",
    "# Print this new table using count()\n",
    "print(GBtemp.count())\n",
    "\n",
    "# Print some stars to separate\n",
    "print('*'*50)\n",
    "\n",
    "# Now lets use agg to get the mean and standard deviation\n",
    "GBtemp.agg(['mean', 'std'])"
   ]
  },
  {
   "cell_type": "markdown",
   "metadata": {},
   "source": [
    "### 1g"
   ]
  },
  {
   "cell_type": "markdown",
   "metadata": {},
   "source": [
    "The capitals of each city are:\n",
    "\n",
    "Connecticut -> Hartford<br>\n",
    "New York -> Albany<br>\n",
    "New Jersey -> Trenton\n",
    "\n",
    "Create a new dataframe called Capital with only two columns: State and Capital "
   ]
  },
  {
   "cell_type": "markdown",
   "metadata": {},
   "source": [
    "### Answer"
   ]
  },
  {
   "cell_type": "code",
   "execution_count": 58,
   "metadata": {},
   "outputs": [
    {
     "data": {
      "text/html": [
       "<div>\n",
       "<style scoped>\n",
       "    .dataframe tbody tr th:only-of-type {\n",
       "        vertical-align: middle;\n",
       "    }\n",
       "\n",
       "    .dataframe tbody tr th {\n",
       "        vertical-align: top;\n",
       "    }\n",
       "\n",
       "    .dataframe thead th {\n",
       "        text-align: right;\n",
       "    }\n",
       "</style>\n",
       "<table border=\"1\" class=\"dataframe\">\n",
       "  <thead>\n",
       "    <tr style=\"text-align: right;\">\n",
       "      <th></th>\n",
       "      <th>Capital</th>\n",
       "      <th>State</th>\n",
       "    </tr>\n",
       "  </thead>\n",
       "  <tbody>\n",
       "    <tr>\n",
       "      <th>0</th>\n",
       "      <td>Albany</td>\n",
       "      <td>NY</td>\n",
       "    </tr>\n",
       "    <tr>\n",
       "      <th>1</th>\n",
       "      <td>Trenton</td>\n",
       "      <td>NJ</td>\n",
       "    </tr>\n",
       "    <tr>\n",
       "      <th>2</th>\n",
       "      <td>Hartford</td>\n",
       "      <td>CT</td>\n",
       "    </tr>\n",
       "  </tbody>\n",
       "</table>\n",
       "</div>"
      ],
      "text/plain": [
       "    Capital State\n",
       "0    Albany    NY\n",
       "1   Trenton    NJ\n",
       "2  Hartford    CT"
      ]
     },
     "execution_count": 58,
     "metadata": {},
     "output_type": "execute_result"
    }
   ],
   "source": [
    "# For this one we will make a data frame from scratch using Panda's DataFrame\n",
    "Capital = pd.DataFrame({'State':['NY', 'NJ', 'CT'],\n",
    "                       'Capital':['Albany', 'Trenton', 'Hartford']})\n",
    "Capital"
   ]
  },
  {
   "cell_type": "markdown",
   "metadata": {},
   "source": [
    "### 1h"
   ]
  },
  {
   "cell_type": "markdown",
   "metadata": {},
   "source": [
    "Add a new boolean column to Temp, where it is True if the city is the capital of the state, otherwise False"
   ]
  },
  {
   "cell_type": "markdown",
   "metadata": {},
   "source": [
    "### Answer"
   ]
  },
  {
   "cell_type": "code",
   "execution_count": 63,
   "metadata": {},
   "outputs": [
    {
     "data": {
      "text/html": [
       "<div>\n",
       "<style scoped>\n",
       "    .dataframe tbody tr th:only-of-type {\n",
       "        vertical-align: middle;\n",
       "    }\n",
       "\n",
       "    .dataframe tbody tr th {\n",
       "        vertical-align: top;\n",
       "    }\n",
       "\n",
       "    .dataframe thead th {\n",
       "        text-align: right;\n",
       "    }\n",
       "</style>\n",
       "<table border=\"1\" class=\"dataframe\">\n",
       "  <thead>\n",
       "    <tr style=\"text-align: right;\">\n",
       "      <th></th>\n",
       "      <th>City</th>\n",
       "      <th>State</th>\n",
       "      <th>Temperature</th>\n",
       "      <th>Capital</th>\n",
       "    </tr>\n",
       "  </thead>\n",
       "  <tbody>\n",
       "    <tr>\n",
       "      <th>0</th>\n",
       "      <td>NYC</td>\n",
       "      <td>NY</td>\n",
       "      <td>67</td>\n",
       "      <td>False</td>\n",
       "    </tr>\n",
       "    <tr>\n",
       "      <th>1</th>\n",
       "      <td>Albany</td>\n",
       "      <td>NY</td>\n",
       "      <td>49</td>\n",
       "      <td>True</td>\n",
       "    </tr>\n",
       "    <tr>\n",
       "      <th>2</th>\n",
       "      <td>Buffalo</td>\n",
       "      <td>NY</td>\n",
       "      <td>38</td>\n",
       "      <td>False</td>\n",
       "    </tr>\n",
       "    <tr>\n",
       "      <th>3</th>\n",
       "      <td>Hartford</td>\n",
       "      <td>CT</td>\n",
       "      <td>63</td>\n",
       "      <td>True</td>\n",
       "    </tr>\n",
       "    <tr>\n",
       "      <th>4</th>\n",
       "      <td>Bridgeport</td>\n",
       "      <td>CT</td>\n",
       "      <td>58</td>\n",
       "      <td>False</td>\n",
       "    </tr>\n",
       "    <tr>\n",
       "      <th>5</th>\n",
       "      <td>New Heaven</td>\n",
       "      <td>CT</td>\n",
       "      <td>58</td>\n",
       "      <td>False</td>\n",
       "    </tr>\n",
       "    <tr>\n",
       "      <th>6</th>\n",
       "      <td>Treton</td>\n",
       "      <td>NJ</td>\n",
       "      <td>72</td>\n",
       "      <td>False</td>\n",
       "    </tr>\n",
       "    <tr>\n",
       "      <th>7</th>\n",
       "      <td>Newark</td>\n",
       "      <td>NJ</td>\n",
       "      <td>68</td>\n",
       "      <td>False</td>\n",
       "    </tr>\n",
       "  </tbody>\n",
       "</table>\n",
       "</div>"
      ],
      "text/plain": [
       "         City State  Temperature  Capital\n",
       "0         NYC    NY           67    False\n",
       "1      Albany    NY           49     True\n",
       "2     Buffalo    NY           38    False\n",
       "3    Hartford    CT           63     True\n",
       "4  Bridgeport    CT           58    False\n",
       "5  New Heaven    CT           58    False\n",
       "6      Treton    NJ           72    False\n",
       "7      Newark    NJ           68    False"
      ]
     },
     "execution_count": 63,
     "metadata": {},
     "output_type": "execute_result"
    }
   ],
   "source": [
    "# First lets start by adding the data frame Capital to our Temp data frame using Panda's merge\n",
    "capTemp = pd.merge(Temp, Capital, on='State')\n",
    "\n",
    "# Now lets change the Capital column to a boolian by using a logical statement \n",
    "capTemp['Capital'] = (capTemp['Capital'] == capTemp['City'])\n",
    "\n",
    "# Lets print our new data frame\n",
    "capTemp"
   ]
  },
  {
   "cell_type": "markdown",
   "metadata": {
    "collapsed": true
   },
   "source": [
    "### Problem 2"
   ]
  },
  {
   "cell_type": "markdown",
   "metadata": {},
   "source": [
    "### 2a"
   ]
  },
  {
   "cell_type": "markdown",
   "metadata": {},
   "source": [
    "Load the Gross Domestic Product data for the 190 countries ranked in the GDP.csv file. "
   ]
  },
  {
   "cell_type": "markdown",
   "metadata": {},
   "source": [
    "### Answer "
   ]
  },
  {
   "cell_type": "code",
   "execution_count": 17,
   "metadata": {},
   "outputs": [
    {
     "data": {
      "text/html": [
       "<div>\n",
       "<style scoped>\n",
       "    .dataframe tbody tr th:only-of-type {\n",
       "        vertical-align: middle;\n",
       "    }\n",
       "\n",
       "    .dataframe tbody tr th {\n",
       "        vertical-align: top;\n",
       "    }\n",
       "\n",
       "    .dataframe thead th {\n",
       "        text-align: right;\n",
       "    }\n",
       "</style>\n",
       "<table border=\"1\" class=\"dataframe\">\n",
       "  <thead>\n",
       "    <tr style=\"text-align: right;\">\n",
       "      <th></th>\n",
       "      <th>CountryCode</th>\n",
       "      <th>Rank</th>\n",
       "      <th>CountryName</th>\n",
       "      <th>GDP</th>\n",
       "    </tr>\n",
       "  </thead>\n",
       "  <tbody>\n",
       "    <tr>\n",
       "      <th>0</th>\n",
       "      <td>CHN</td>\n",
       "      <td>2</td>\n",
       "      <td>China</td>\n",
       "      <td>8,227,103</td>\n",
       "    </tr>\n",
       "    <tr>\n",
       "      <th>1</th>\n",
       "      <td>JPN</td>\n",
       "      <td>3</td>\n",
       "      <td>Japan</td>\n",
       "      <td>5,959,718</td>\n",
       "    </tr>\n",
       "    <tr>\n",
       "      <th>2</th>\n",
       "      <td>DEU</td>\n",
       "      <td>4</td>\n",
       "      <td>Germany</td>\n",
       "      <td>3,428,131</td>\n",
       "    </tr>\n",
       "    <tr>\n",
       "      <th>3</th>\n",
       "      <td>FRA</td>\n",
       "      <td>5</td>\n",
       "      <td>France</td>\n",
       "      <td>2,612,878</td>\n",
       "    </tr>\n",
       "    <tr>\n",
       "      <th>4</th>\n",
       "      <td>GBR</td>\n",
       "      <td>6</td>\n",
       "      <td>United Kingdom</td>\n",
       "      <td>2,471,784</td>\n",
       "    </tr>\n",
       "  </tbody>\n",
       "</table>\n",
       "</div>"
      ],
      "text/plain": [
       "  CountryCode  Rank     CountryName          GDP\n",
       "0         CHN     2           China   8,227,103 \n",
       "1         JPN     3           Japan   5,959,718 \n",
       "2         DEU     4         Germany   3,428,131 \n",
       "3         FRA     5          France   2,612,878 \n",
       "4         GBR     6  United Kingdom   2,471,784 "
      ]
     },
     "execution_count": 17,
     "metadata": {},
     "output_type": "execute_result"
    }
   ],
   "source": [
    "#Lets start by importing the packages we will need for this Exercise \n",
    "import numpy as np\n",
    "import pandas as pd\n",
    "\n",
    "# So this is a very interesting file that can give us some problems to read but fortunately\n",
    "# Pandas's read_csv has pretty much a solution for everything.\n",
    "\n",
    "# We use pd.read_csv to read the file, we notice that the first 4 rows and the header contain no information\n",
    "# what so ever so we use skiprows to skip them. we notice that the only columns that actually contain information \n",
    "# are the columns 0, 1, 3 and four so we use usecols to only download those columns. There are a lot of columns \n",
    "# that have a lot of N/As towards the end so we only select the 189 relevant ones. Finally for this file we are\n",
    "# going to need an encoder if you are using a mac which i am, hence we use encoding.\n",
    "gdp = pd.read_csv('GDP.csv', skiprows = range(5), usecols = [0,1,3,4], nrows = 189, encoding='ISO-8859-1')\n",
    "\n",
    "# Now lets use .columns to rename our four columns, make it look pretty\n",
    "gdp.columns = ['CountryCode', 'Rank', 'CountryName', 'GDP']\n",
    "\n",
    "# And if you saw the data before cleaning it up, you will be surprised how clean it looks now.\n",
    "# Lets have a look at the first 5 columns\n",
    "gdp.head()"
   ]
  },
  {
   "cell_type": "markdown",
   "metadata": {},
   "source": [
    "### 2b"
   ]
  },
  {
   "cell_type": "markdown",
   "metadata": {},
   "source": [
    "Load the Country.csv file into a data frame"
   ]
  },
  {
   "cell_type": "code",
   "execution_count": 23,
   "metadata": {},
   "outputs": [
    {
     "data": {
      "text/html": [
       "<div>\n",
       "<style scoped>\n",
       "    .dataframe tbody tr th:only-of-type {\n",
       "        vertical-align: middle;\n",
       "    }\n",
       "\n",
       "    .dataframe tbody tr th {\n",
       "        vertical-align: top;\n",
       "    }\n",
       "\n",
       "    .dataframe thead th {\n",
       "        text-align: right;\n",
       "    }\n",
       "</style>\n",
       "<table border=\"1\" class=\"dataframe\">\n",
       "  <thead>\n",
       "    <tr style=\"text-align: right;\">\n",
       "      <th></th>\n",
       "      <th>CountryCode</th>\n",
       "      <th>Long Name</th>\n",
       "      <th>Income Group</th>\n",
       "      <th>Region</th>\n",
       "      <th>Lending category</th>\n",
       "      <th>Other groups</th>\n",
       "      <th>Currency Unit</th>\n",
       "      <th>Latest population census</th>\n",
       "      <th>Latest household survey</th>\n",
       "      <th>Special Notes</th>\n",
       "      <th>...</th>\n",
       "      <th>Source of most recent Income and expenditure data</th>\n",
       "      <th>Vital registration complete</th>\n",
       "      <th>Latest agricultural census</th>\n",
       "      <th>Latest industrial data</th>\n",
       "      <th>Latest trade data</th>\n",
       "      <th>Latest water withdrawal data</th>\n",
       "      <th>2-alpha code</th>\n",
       "      <th>WB-2 code</th>\n",
       "      <th>Table Name</th>\n",
       "      <th>Short Name</th>\n",
       "    </tr>\n",
       "  </thead>\n",
       "  <tbody>\n",
       "    <tr>\n",
       "      <th>0</th>\n",
       "      <td>ABW</td>\n",
       "      <td>Aruba</td>\n",
       "      <td>High income: nonOECD</td>\n",
       "      <td>Latin America &amp; Caribbean</td>\n",
       "      <td>NaN</td>\n",
       "      <td>NaN</td>\n",
       "      <td>Aruban florin</td>\n",
       "      <td>2000</td>\n",
       "      <td>NaN</td>\n",
       "      <td>NaN</td>\n",
       "      <td>...</td>\n",
       "      <td>NaN</td>\n",
       "      <td>NaN</td>\n",
       "      <td>NaN</td>\n",
       "      <td>NaN</td>\n",
       "      <td>2008.0</td>\n",
       "      <td>NaN</td>\n",
       "      <td>AW</td>\n",
       "      <td>AW</td>\n",
       "      <td>Aruba</td>\n",
       "      <td>Aruba</td>\n",
       "    </tr>\n",
       "    <tr>\n",
       "      <th>1</th>\n",
       "      <td>ADO</td>\n",
       "      <td>Principality of Andorra</td>\n",
       "      <td>High income: nonOECD</td>\n",
       "      <td>Europe &amp; Central Asia</td>\n",
       "      <td>NaN</td>\n",
       "      <td>NaN</td>\n",
       "      <td>Euro</td>\n",
       "      <td>Register based</td>\n",
       "      <td>NaN</td>\n",
       "      <td>NaN</td>\n",
       "      <td>...</td>\n",
       "      <td>NaN</td>\n",
       "      <td>Yes</td>\n",
       "      <td>NaN</td>\n",
       "      <td>NaN</td>\n",
       "      <td>2006.0</td>\n",
       "      <td>NaN</td>\n",
       "      <td>AD</td>\n",
       "      <td>AD</td>\n",
       "      <td>Andorra</td>\n",
       "      <td>Andorra</td>\n",
       "    </tr>\n",
       "    <tr>\n",
       "      <th>2</th>\n",
       "      <td>AFG</td>\n",
       "      <td>Islamic State of Afghanistan</td>\n",
       "      <td>Low income</td>\n",
       "      <td>South Asia</td>\n",
       "      <td>IDA</td>\n",
       "      <td>HIPC</td>\n",
       "      <td>Afghan afghani</td>\n",
       "      <td>1979</td>\n",
       "      <td>MICS, 2003</td>\n",
       "      <td>Fiscal year end: March 20; reporting period fo...</td>\n",
       "      <td>...</td>\n",
       "      <td>NaN</td>\n",
       "      <td>NaN</td>\n",
       "      <td>NaN</td>\n",
       "      <td>NaN</td>\n",
       "      <td>2008.0</td>\n",
       "      <td>2000.0</td>\n",
       "      <td>AF</td>\n",
       "      <td>AF</td>\n",
       "      <td>Afghanistan</td>\n",
       "      <td>Afghanistan</td>\n",
       "    </tr>\n",
       "    <tr>\n",
       "      <th>3</th>\n",
       "      <td>AGO</td>\n",
       "      <td>People's Republic of Angola</td>\n",
       "      <td>Lower middle income</td>\n",
       "      <td>Sub-Saharan Africa</td>\n",
       "      <td>IDA</td>\n",
       "      <td>NaN</td>\n",
       "      <td>Angolan kwanza</td>\n",
       "      <td>1970</td>\n",
       "      <td>MICS, 2001, MIS, 2006/07</td>\n",
       "      <td>NaN</td>\n",
       "      <td>...</td>\n",
       "      <td>IHS, 2000</td>\n",
       "      <td>NaN</td>\n",
       "      <td>1964-65</td>\n",
       "      <td>NaN</td>\n",
       "      <td>1991.0</td>\n",
       "      <td>2000.0</td>\n",
       "      <td>AO</td>\n",
       "      <td>AO</td>\n",
       "      <td>Angola</td>\n",
       "      <td>Angola</td>\n",
       "    </tr>\n",
       "    <tr>\n",
       "      <th>4</th>\n",
       "      <td>ALB</td>\n",
       "      <td>Republic of Albania</td>\n",
       "      <td>Upper middle income</td>\n",
       "      <td>Europe &amp; Central Asia</td>\n",
       "      <td>IBRD</td>\n",
       "      <td>NaN</td>\n",
       "      <td>Albanian lek</td>\n",
       "      <td>2001</td>\n",
       "      <td>MICS, 2005</td>\n",
       "      <td>NaN</td>\n",
       "      <td>...</td>\n",
       "      <td>LSMS, 2005</td>\n",
       "      <td>Yes</td>\n",
       "      <td>1998</td>\n",
       "      <td>2005.0</td>\n",
       "      <td>2008.0</td>\n",
       "      <td>2000.0</td>\n",
       "      <td>AL</td>\n",
       "      <td>AL</td>\n",
       "      <td>Albania</td>\n",
       "      <td>Albania</td>\n",
       "    </tr>\n",
       "  </tbody>\n",
       "</table>\n",
       "<p>5 rows × 31 columns</p>\n",
       "</div>"
      ],
      "text/plain": [
       "  CountryCode                     Long Name          Income Group  \\\n",
       "0         ABW                         Aruba  High income: nonOECD   \n",
       "1         ADO       Principality of Andorra  High income: nonOECD   \n",
       "2         AFG  Islamic State of Afghanistan            Low income   \n",
       "3         AGO   People's Republic of Angola   Lower middle income   \n",
       "4         ALB           Republic of Albania   Upper middle income   \n",
       "\n",
       "                      Region Lending category Other groups   Currency Unit  \\\n",
       "0  Latin America & Caribbean              NaN          NaN   Aruban florin   \n",
       "1      Europe & Central Asia              NaN          NaN            Euro   \n",
       "2                 South Asia              IDA         HIPC  Afghan afghani   \n",
       "3         Sub-Saharan Africa              IDA          NaN  Angolan kwanza   \n",
       "4      Europe & Central Asia             IBRD          NaN    Albanian lek   \n",
       "\n",
       "  Latest population census   Latest household survey  \\\n",
       "0                     2000                       NaN   \n",
       "1           Register based                       NaN   \n",
       "2                     1979                MICS, 2003   \n",
       "3                     1970  MICS, 2001, MIS, 2006/07   \n",
       "4                     2001                MICS, 2005   \n",
       "\n",
       "                                       Special Notes     ...       \\\n",
       "0                                                NaN     ...        \n",
       "1                                                NaN     ...        \n",
       "2  Fiscal year end: March 20; reporting period fo...     ...        \n",
       "3                                                NaN     ...        \n",
       "4                                                NaN     ...        \n",
       "\n",
       "  Source of most recent Income and expenditure data  \\\n",
       "0                                               NaN   \n",
       "1                                               NaN   \n",
       "2                                               NaN   \n",
       "3                                         IHS, 2000   \n",
       "4                                        LSMS, 2005   \n",
       "\n",
       "   Vital registration complete  Latest agricultural census  \\\n",
       "0                          NaN                         NaN   \n",
       "1                          Yes                         NaN   \n",
       "2                          NaN                         NaN   \n",
       "3                          NaN                     1964-65   \n",
       "4                          Yes                        1998   \n",
       "\n",
       "  Latest industrial data Latest trade data  Latest water withdrawal data  \\\n",
       "0                    NaN            2008.0                           NaN   \n",
       "1                    NaN            2006.0                           NaN   \n",
       "2                    NaN            2008.0                        2000.0   \n",
       "3                    NaN            1991.0                        2000.0   \n",
       "4                 2005.0            2008.0                        2000.0   \n",
       "\n",
       "  2-alpha code WB-2 code   Table Name   Short Name  \n",
       "0           AW        AW        Aruba        Aruba  \n",
       "1           AD        AD      Andorra      Andorra  \n",
       "2           AF        AF  Afghanistan  Afghanistan  \n",
       "3           AO        AO       Angola       Angola  \n",
       "4           AL        AL      Albania      Albania  \n",
       "\n",
       "[5 rows x 31 columns]"
      ]
     },
     "execution_count": 23,
     "metadata": {},
     "output_type": "execute_result"
    }
   ],
   "source": [
    "# Similar to GDP, we use pd.read_csv to read the file and then use the encoder\n",
    "country = pd.read_csv('Country.csv', encoding='ISO-8859-1')\n",
    "\n",
    "# Lets have a look at the data frame\n",
    "country.head()"
   ]
  },
  {
   "cell_type": "markdown",
   "metadata": {},
   "source": [
    "### 2c"
   ]
  },
  {
   "cell_type": "markdown",
   "metadata": {},
   "source": [
    "Match the data based on the country shortcode."
   ]
  },
  {
   "cell_type": "markdown",
   "metadata": {},
   "source": [
    "### Answer"
   ]
  },
  {
   "cell_type": "code",
   "execution_count": 27,
   "metadata": {},
   "outputs": [
    {
     "data": {
      "text/html": [
       "<div>\n",
       "<style scoped>\n",
       "    .dataframe tbody tr th:only-of-type {\n",
       "        vertical-align: middle;\n",
       "    }\n",
       "\n",
       "    .dataframe tbody tr th {\n",
       "        vertical-align: top;\n",
       "    }\n",
       "\n",
       "    .dataframe thead th {\n",
       "        text-align: right;\n",
       "    }\n",
       "</style>\n",
       "<table border=\"1\" class=\"dataframe\">\n",
       "  <thead>\n",
       "    <tr style=\"text-align: right;\">\n",
       "      <th></th>\n",
       "      <th>CountryCode</th>\n",
       "      <th>Rank</th>\n",
       "      <th>CountryName</th>\n",
       "      <th>GDP</th>\n",
       "      <th>Long Name</th>\n",
       "      <th>Income Group</th>\n",
       "      <th>Region</th>\n",
       "      <th>Lending category</th>\n",
       "      <th>Other groups</th>\n",
       "      <th>Currency Unit</th>\n",
       "      <th>...</th>\n",
       "      <th>Source of most recent Income and expenditure data</th>\n",
       "      <th>Vital registration complete</th>\n",
       "      <th>Latest agricultural census</th>\n",
       "      <th>Latest industrial data</th>\n",
       "      <th>Latest trade data</th>\n",
       "      <th>Latest water withdrawal data</th>\n",
       "      <th>2-alpha code</th>\n",
       "      <th>WB-2 code</th>\n",
       "      <th>Table Name</th>\n",
       "      <th>Short Name</th>\n",
       "    </tr>\n",
       "  </thead>\n",
       "  <tbody>\n",
       "    <tr>\n",
       "      <th>0</th>\n",
       "      <td>CHN</td>\n",
       "      <td>2</td>\n",
       "      <td>China</td>\n",
       "      <td>8,227,103</td>\n",
       "      <td>People's Republic of China</td>\n",
       "      <td>Lower middle income</td>\n",
       "      <td>East Asia &amp; Pacific</td>\n",
       "      <td>IBRD</td>\n",
       "      <td>NaN</td>\n",
       "      <td>Chinese yuan</td>\n",
       "      <td>...</td>\n",
       "      <td>IHS, 2005</td>\n",
       "      <td>NaN</td>\n",
       "      <td>1997</td>\n",
       "      <td>2005.0</td>\n",
       "      <td>2008.0</td>\n",
       "      <td>2000.0</td>\n",
       "      <td>CN</td>\n",
       "      <td>CN</td>\n",
       "      <td>China</td>\n",
       "      <td>China</td>\n",
       "    </tr>\n",
       "    <tr>\n",
       "      <th>1</th>\n",
       "      <td>JPN</td>\n",
       "      <td>3</td>\n",
       "      <td>Japan</td>\n",
       "      <td>5,959,718</td>\n",
       "      <td>Japan</td>\n",
       "      <td>High income: OECD</td>\n",
       "      <td>East Asia &amp; Pacific</td>\n",
       "      <td>NaN</td>\n",
       "      <td>NaN</td>\n",
       "      <td>Japanese yen</td>\n",
       "      <td>...</td>\n",
       "      <td>IS, 1993</td>\n",
       "      <td>Yes</td>\n",
       "      <td>2000</td>\n",
       "      <td>2004.0</td>\n",
       "      <td>2008.0</td>\n",
       "      <td>2000.0</td>\n",
       "      <td>JP</td>\n",
       "      <td>JP</td>\n",
       "      <td>Japan</td>\n",
       "      <td>Japan</td>\n",
       "    </tr>\n",
       "    <tr>\n",
       "      <th>2</th>\n",
       "      <td>DEU</td>\n",
       "      <td>4</td>\n",
       "      <td>Germany</td>\n",
       "      <td>3,428,131</td>\n",
       "      <td>Federal Republic of Germany</td>\n",
       "      <td>High income: OECD</td>\n",
       "      <td>Europe &amp; Central Asia</td>\n",
       "      <td>NaN</td>\n",
       "      <td>Euro area</td>\n",
       "      <td>Euro</td>\n",
       "      <td>...</td>\n",
       "      <td>IHS, 2000</td>\n",
       "      <td>Yes</td>\n",
       "      <td>1999-2000</td>\n",
       "      <td>2004.0</td>\n",
       "      <td>2008.0</td>\n",
       "      <td>2000.0</td>\n",
       "      <td>DE</td>\n",
       "      <td>DE</td>\n",
       "      <td>Germany</td>\n",
       "      <td>Germany</td>\n",
       "    </tr>\n",
       "    <tr>\n",
       "      <th>3</th>\n",
       "      <td>FRA</td>\n",
       "      <td>5</td>\n",
       "      <td>France</td>\n",
       "      <td>2,612,878</td>\n",
       "      <td>French Republic</td>\n",
       "      <td>High income: OECD</td>\n",
       "      <td>Europe &amp; Central Asia</td>\n",
       "      <td>NaN</td>\n",
       "      <td>Euro area</td>\n",
       "      <td>Euro</td>\n",
       "      <td>...</td>\n",
       "      <td>ES/BS, 1994/95</td>\n",
       "      <td>Yes</td>\n",
       "      <td>1999-2000</td>\n",
       "      <td>2004.0</td>\n",
       "      <td>2008.0</td>\n",
       "      <td>2000.0</td>\n",
       "      <td>FR</td>\n",
       "      <td>FR</td>\n",
       "      <td>France</td>\n",
       "      <td>France</td>\n",
       "    </tr>\n",
       "    <tr>\n",
       "      <th>4</th>\n",
       "      <td>GBR</td>\n",
       "      <td>6</td>\n",
       "      <td>United Kingdom</td>\n",
       "      <td>2,471,784</td>\n",
       "      <td>United Kingdom of Great Britain and Northern I...</td>\n",
       "      <td>High income: OECD</td>\n",
       "      <td>Europe &amp; Central Asia</td>\n",
       "      <td>NaN</td>\n",
       "      <td>NaN</td>\n",
       "      <td>Pound sterling</td>\n",
       "      <td>...</td>\n",
       "      <td>IS, 1999</td>\n",
       "      <td>Yes</td>\n",
       "      <td>1999-2000 (conducted annually)</td>\n",
       "      <td>2004.0</td>\n",
       "      <td>2008.0</td>\n",
       "      <td>2000.0</td>\n",
       "      <td>GB</td>\n",
       "      <td>GB</td>\n",
       "      <td>United Kingdom</td>\n",
       "      <td>United Kingdom</td>\n",
       "    </tr>\n",
       "  </tbody>\n",
       "</table>\n",
       "<p>5 rows × 34 columns</p>\n",
       "</div>"
      ],
      "text/plain": [
       "  CountryCode  Rank     CountryName          GDP  \\\n",
       "0         CHN     2           China   8,227,103    \n",
       "1         JPN     3           Japan   5,959,718    \n",
       "2         DEU     4         Germany   3,428,131    \n",
       "3         FRA     5          France   2,612,878    \n",
       "4         GBR     6  United Kingdom   2,471,784    \n",
       "\n",
       "                                           Long Name         Income Group  \\\n",
       "0                         People's Republic of China  Lower middle income   \n",
       "1                                              Japan    High income: OECD   \n",
       "2                        Federal Republic of Germany    High income: OECD   \n",
       "3                                    French Republic    High income: OECD   \n",
       "4  United Kingdom of Great Britain and Northern I...    High income: OECD   \n",
       "\n",
       "                  Region Lending category Other groups   Currency Unit  \\\n",
       "0    East Asia & Pacific             IBRD          NaN    Chinese yuan   \n",
       "1    East Asia & Pacific              NaN          NaN    Japanese yen   \n",
       "2  Europe & Central Asia              NaN    Euro area            Euro   \n",
       "3  Europe & Central Asia              NaN    Euro area            Euro   \n",
       "4  Europe & Central Asia              NaN          NaN  Pound sterling   \n",
       "\n",
       "        ...       Source of most recent Income and expenditure data  \\\n",
       "0       ...                                               IHS, 2005   \n",
       "1       ...                                                IS, 1993   \n",
       "2       ...                                               IHS, 2000   \n",
       "3       ...                                          ES/BS, 1994/95   \n",
       "4       ...                                                IS, 1999   \n",
       "\n",
       "  Vital registration complete      Latest agricultural census  \\\n",
       "0                         NaN                            1997   \n",
       "1                         Yes                            2000   \n",
       "2                         Yes                       1999-2000   \n",
       "3                         Yes                       1999-2000   \n",
       "4                         Yes  1999-2000 (conducted annually)   \n",
       "\n",
       "  Latest industrial data  Latest trade data  Latest water withdrawal data  \\\n",
       "0                 2005.0             2008.0                        2000.0   \n",
       "1                 2004.0             2008.0                        2000.0   \n",
       "2                 2004.0             2008.0                        2000.0   \n",
       "3                 2004.0             2008.0                        2000.0   \n",
       "4                 2004.0             2008.0                        2000.0   \n",
       "\n",
       "  2-alpha code WB-2 code      Table Name      Short Name  \n",
       "0           CN        CN           China           China  \n",
       "1           JP        JP           Japan           Japan  \n",
       "2           DE        DE         Germany         Germany  \n",
       "3           FR        FR          France          France  \n",
       "4           GB        GB  United Kingdom  United Kingdom  \n",
       "\n",
       "[5 rows x 34 columns]"
      ]
     },
     "execution_count": 27,
     "metadata": {},
     "output_type": "execute_result"
    }
   ],
   "source": [
    "# So we are going to merge both data frames on CountryCode using pandas merge\n",
    "gdpMerged = pd.merge(gdp, country, on = 'CountryCode')\n",
    "\n",
    "# Lets see what we got\n",
    "gdpMerged.head()"
   ]
  },
  {
   "cell_type": "markdown",
   "metadata": {},
   "source": [
    "### 2d"
   ]
  },
  {
   "cell_type": "markdown",
   "metadata": {},
   "source": [
    "How many of the IDs match?"
   ]
  },
  {
   "cell_type": "markdown",
   "metadata": {},
   "source": [
    "### Answer"
   ]
  },
  {
   "cell_type": "code",
   "execution_count": 30,
   "metadata": {},
   "outputs": [
    {
     "data": {
      "text/plain": [
       "188"
      ]
     },
     "execution_count": 30,
     "metadata": {},
     "output_type": "execute_result"
    }
   ],
   "source": [
    "# For this question we can just use the shape of the data frame which will tell us how many columns\n",
    "# and rows it has, since we've been asked for just the columns we get the first number = 0\n",
    "gdpMerged.shape[0]"
   ]
  }
 ],
 "metadata": {
  "kernelspec": {
   "display_name": "Python 3",
   "language": "python",
   "name": "python3"
  },
  "language_info": {
   "codemirror_mode": {
    "name": "ipython",
    "version": 3
   },
   "file_extension": ".py",
   "mimetype": "text/x-python",
   "name": "python",
   "nbconvert_exporter": "python",
   "pygments_lexer": "ipython3",
   "version": "3.6.3"
  }
 },
 "nbformat": 4,
 "nbformat_minor": 2
}
